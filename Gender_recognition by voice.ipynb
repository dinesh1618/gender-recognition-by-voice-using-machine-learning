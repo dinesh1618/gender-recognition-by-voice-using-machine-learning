{
 "cells": [
  {
   "cell_type": "code",
   "execution_count": 2,
   "metadata": {},
   "outputs": [],
   "source": [
    "import pandas as pd\n",
    "import numpy as np\n",
    "import os, tqdm\n",
    "import librosa\n",
    "import matplotlib.pyplot as plt\n",
    "import seaborn as sns\n",
    "from tensorflow.keras.models import Sequential\n",
    "from tensorflow.keras.layers import LSTM, Dense, Dropout\n",
    "from tensorflow.keras.callbacks import ModelCheckpoint, EarlyStopping, TensorBoard\n",
    "from sklearn.model_selection import train_test_split\n",
    "from sklearn.utils import shuffle"
   ]
  },
  {
   "cell_type": "code",
   "execution_count": null,
   "metadata": {},
   "outputs": [],
   "source": []
  },
  {
   "cell_type": "code",
   "execution_count": 9,
   "metadata": {},
   "outputs": [
    {
     "data": {
      "text/html": [
       "<div>\n",
       "<style scoped>\n",
       "    .dataframe tbody tr th:only-of-type {\n",
       "        vertical-align: middle;\n",
       "    }\n",
       "\n",
       "    .dataframe tbody tr th {\n",
       "        vertical-align: top;\n",
       "    }\n",
       "\n",
       "    .dataframe thead th {\n",
       "        text-align: right;\n",
       "    }\n",
       "</style>\n",
       "<table border=\"1\" class=\"dataframe\">\n",
       "  <thead>\n",
       "    <tr style=\"text-align: right;\">\n",
       "      <th></th>\n",
       "      <th>filename</th>\n",
       "      <th>gender</th>\n",
       "    </tr>\n",
       "  </thead>\n",
       "  <tbody>\n",
       "    <tr>\n",
       "      <th>0</th>\n",
       "      <td>data/cv-other-train/sample-069205.npy</td>\n",
       "      <td>female</td>\n",
       "    </tr>\n",
       "    <tr>\n",
       "      <th>1</th>\n",
       "      <td>data/cv-valid-train/sample-063134.npy</td>\n",
       "      <td>female</td>\n",
       "    </tr>\n",
       "    <tr>\n",
       "      <th>2</th>\n",
       "      <td>data/cv-other-train/sample-080873.npy</td>\n",
       "      <td>female</td>\n",
       "    </tr>\n",
       "    <tr>\n",
       "      <th>3</th>\n",
       "      <td>data/cv-other-train/sample-105595.npy</td>\n",
       "      <td>female</td>\n",
       "    </tr>\n",
       "    <tr>\n",
       "      <th>4</th>\n",
       "      <td>data/cv-valid-train/sample-144613.npy</td>\n",
       "      <td>female</td>\n",
       "    </tr>\n",
       "  </tbody>\n",
       "</table>\n",
       "</div>"
      ],
      "text/plain": [
       "                                filename  gender\n",
       "0  data/cv-other-train/sample-069205.npy  female\n",
       "1  data/cv-valid-train/sample-063134.npy  female\n",
       "2  data/cv-other-train/sample-080873.npy  female\n",
       "3  data/cv-other-train/sample-105595.npy  female\n",
       "4  data/cv-valid-train/sample-144613.npy  female"
      ]
     },
     "execution_count": 9,
     "metadata": {},
     "output_type": "execute_result"
    }
   ],
   "source": [
    "df = pd.read_csv(\"balanced-all.csv\")\n",
    "df.head()"
   ]
  },
  {
   "cell_type": "code",
   "execution_count": 10,
   "metadata": {},
   "outputs": [
    {
     "data": {
      "text/plain": [
       "male      33469\n",
       "female    33469\n",
       "Name: gender, dtype: int64"
      ]
     },
     "execution_count": 10,
     "metadata": {},
     "output_type": "execute_result"
    }
   ],
   "source": [
    "df[\"gender\"].value_counts()"
   ]
  },
  {
   "cell_type": "code",
   "execution_count": 11,
   "metadata": {},
   "outputs": [
    {
     "data": {
      "image/png": "[encoded data removed]",
      "text/plain": [
       "<Figure size 720x576 with 1 Axes>"
      ]
     },
     "metadata": {
      "needs_background": "light"
     },
     "output_type": "display_data"
    }
   ],
   "source": [
    "plt.figure(figsize=(10, 8))\n",
    "sns.countplot(df[\"gender\"])\n",
    "plt.show()"
   ]
  },
  {
   "cell_type": "code",
   "execution_count": 12,
   "metadata": {},
   "outputs": [],
   "source": [
    "files = []\n",
    "for i in df[\"filename\"]:\n",
    "    files.append(i.split(\"/\")[-1])"
   ]
  },
  {
   "cell_type": "code",
   "execution_count": 13,
   "metadata": {},
   "outputs": [],
   "source": [
    "df[\"filename\"] = files"
   ]
  },
  {
   "cell_type": "code",
   "execution_count": 14,
   "metadata": {},
   "outputs": [],
   "source": [
    "np.random.shuffle(df.values)"
   ]
  },
  {
   "cell_type": "code",
   "execution_count": 15,
   "metadata": {},
   "outputs": [
    {
     "data": {
      "text/html": [
       "<div>\n",
       "<style scoped>\n",
       "    .dataframe tbody tr th:only-of-type {\n",
       "        vertical-align: middle;\n",
       "    }\n",
       "\n",
       "    .dataframe tbody tr th {\n",
       "        vertical-align: top;\n",
       "    }\n",
       "\n",
       "    .dataframe thead th {\n",
       "        text-align: right;\n",
       "    }\n",
       "</style>\n",
       "<table border=\"1\" class=\"dataframe\">\n",
       "  <thead>\n",
       "    <tr style=\"text-align: right;\">\n",
       "      <th></th>\n",
       "      <th>filename</th>\n",
       "      <th>gender</th>\n",
       "    </tr>\n",
       "  </thead>\n",
       "  <tbody>\n",
       "    <tr>\n",
       "      <th>0</th>\n",
       "      <td>sample-123161.npy</td>\n",
       "      <td>male</td>\n",
       "    </tr>\n",
       "    <tr>\n",
       "      <th>1</th>\n",
       "      <td>sample-082464.npy</td>\n",
       "      <td>male</td>\n",
       "    </tr>\n",
       "    <tr>\n",
       "      <th>2</th>\n",
       "      <td>sample-001708.npy</td>\n",
       "      <td>female</td>\n",
       "    </tr>\n",
       "    <tr>\n",
       "      <th>3</th>\n",
       "      <td>sample-149172.npy</td>\n",
       "      <td>male</td>\n",
       "    </tr>\n",
       "    <tr>\n",
       "      <th>4</th>\n",
       "      <td>sample-019995.npy</td>\n",
       "      <td>female</td>\n",
       "    </tr>\n",
       "  </tbody>\n",
       "</table>\n",
       "</div>"
      ],
      "text/plain": [
       "            filename  gender\n",
       "0  sample-123161.npy    male\n",
       "1  sample-082464.npy    male\n",
       "2  sample-001708.npy  female\n",
       "3  sample-149172.npy    male\n",
       "4  sample-019995.npy  female"
      ]
     },
     "execution_count": 15,
     "metadata": {},
     "output_type": "execute_result"
    }
   ],
   "source": [
    "df.head()"
   ]
  },
  {
   "cell_type": "code",
   "execution_count": 18,
   "metadata": {},
   "outputs": [],
   "source": [
    "label2int = {\n",
    "    \"male\": 1,\n",
    "    \"female\": 0\n",
    "}\n",
    "def load(df, vec_len = 128):\n",
    "    if not os.path.isdir(\"output\"):\n",
    "        os.mkdir(\"output\")\n",
    "    if os.path.isfile(\"output/features.npy\") and os.path.isfile(\"output/labels.npy\"):\n",
    "        features = np.load(\"output\\features.npy\")\n",
    "        labels = np.load(\"output\\labels.npy\")\n",
    "        return features, labels\n",
    "    male_sam = int(len(df[\"gender\"])/2)\n",
    "    female_sam = male_sam\n",
    "    X = np.zeros((len(df), vec_len))\n",
    "    y = np.zeros((len(df), 1))\n",
    "    for i, (file, gender) in tqdm.tqdm(enumerate(zip(df[\"filename\"], df[\"gender\"])), \"Loading Data\", total=len(df)):\n",
    "        X[i] = np.load(os.path.join(\"files\", file))\n",
    "        y[i] = label2int[gender]\n",
    "    np.save(\"output/features\", X)\n",
    "    np.save(\"output/labels\", y)\n",
    "    return X, y"
   ]
  },
  {
   "cell_type": "code",
   "execution_count": 19,
   "metadata": {},
   "outputs": [
    {
     "name": "stderr",
     "output_type": "stream",
     "text": [
      "Loading Data: 100%|████████████████████████████████████████████████████████████| 66938/66938 [00:45<00:00, 1470.72it/s]\n"
     ]
    }
   ],
   "source": [
    "X, y = load(df)"
   ]
  },
  {
   "cell_type": "code",
   "execution_count": 20,
   "metadata": {},
   "outputs": [],
   "source": [
    "X_train, X_test, y_train, y_test = train_test_split(X, y, test_size=0.33, random_state=42)"
   ]
  },
  {
   "cell_type": "code",
   "execution_count": 21,
   "metadata": {},
   "outputs": [],
   "source": [
    "X_train, X_val, y_train, y_val = train_test_split(X_train, y_train, test_size=0.33, random_state=42)"
   ]
  },
  {
   "cell_type": "code",
   "execution_count": null,
   "metadata": {},
   "outputs": [],
   "source": []
  },
  {
   "cell_type": "code",
   "execution_count": 22,
   "metadata": {},
   "outputs": [],
   "source": [
    "model = Sequential()\n",
    "model.add(Dense(256, input_shape=(128, )))"
   ]
  },
  {
   "cell_type": "code",
   "execution_count": 23,
   "metadata": {},
   "outputs": [],
   "source": [
    "model.add(Dropout(0.3))\n",
    "model.add(Dense(256))\n",
    "model.add(Dropout(0.3))\n",
    "model.add(Dense(128))\n",
    "model.add(Dropout(0.3))\n",
    "model.add(Dense(128))\n",
    "model.add(Dropout(0.3))\n",
    "model.add(Dense(64))\n",
    "model.add(Dropout(0.3))\n",
    "model.add(Dense(1, activation=\"sigmoid\"))"
   ]
  },
  {
   "cell_type": "code",
   "execution_count": 24,
   "metadata": {},
   "outputs": [],
   "source": [
    "model.compile(loss=\"binary_crossentropy\", metrics=[\"accuracy\"], optimizer = \"adam\")"
   ]
  },
  {
   "cell_type": "code",
   "execution_count": 25,
   "metadata": {},
   "outputs": [
    {
     "name": "stdout",
     "output_type": "stream",
     "text": [
      "Model: \"sequential\"\n",
      "_________________________________________________________________\n",
      "Layer (type)                 Output Shape              Param #   \n",
      "=================================================================\n",
      "dense (Dense)                (None, 256)               33024     \n",
      "_________________________________________________________________\n",
      "dropout (Dropout)            (None, 256)               0         \n",
      "_________________________________________________________________\n",
      "dense_1 (Dense)              (None, 256)               65792     \n",
      "_________________________________________________________________\n",
      "dropout_1 (Dropout)          (None, 256)               0         \n",
      "_________________________________________________________________\n",
      "dense_2 (Dense)              (None, 128)               32896     \n",
      "_________________________________________________________________\n",
      "dropout_2 (Dropout)          (None, 128)               0         \n",
      "_________________________________________________________________\n",
      "dense_3 (Dense)              (None, 128)               16512     \n",
      "_________________________________________________________________\n",
      "dropout_3 (Dropout)          (None, 128)               0         \n",
      "_________________________________________________________________\n",
      "dense_4 (Dense)              (None, 64)                8256      \n",
      "_________________________________________________________________\n",
      "dropout_4 (Dropout)          (None, 64)                0         \n",
      "_________________________________________________________________\n",
      "dense_5 (Dense)              (None, 1)                 65        \n",
      "=================================================================\n",
      "Total params: 156,545\n",
      "Trainable params: 156,545\n",
      "Non-trainable params: 0\n",
      "_________________________________________________________________\n"
     ]
    }
   ],
   "source": [
    "model.summary()"
   ]
  },
  {
   "cell_type": "code",
   "execution_count": 27,
   "metadata": {},
   "outputs": [
    {
     "name": "stdout",
     "output_type": "stream",
     "text": [
      "Epoch 1/100\n",
      "470/470 [==============================] - 7s 7ms/step - loss: 0.7052 - accuracy: 0.6686 - val_loss: 0.5484 - val_accuracy: 0.7907\n",
      "Epoch 2/100\n",
      "470/470 [==============================] - 3s 7ms/step - loss: 0.5542 - accuracy: 0.7694 - val_loss: 0.4839 - val_accuracy: 0.8063\n",
      "Epoch 3/100\n",
      "470/470 [==============================] - 3s 6ms/step - loss: 0.5048 - accuracy: 0.7912 - val_loss: 0.4547 - val_accuracy: 0.8105\n",
      "Epoch 4/100\n",
      "470/470 [==============================] - 3s 6ms/step - loss: 0.4810 - accuracy: 0.8047 - val_loss: 0.4325 - val_accuracy: 0.8268\n",
      "Epoch 5/100\n",
      "470/470 [==============================] - 3s 6ms/step - loss: 0.4683 - accuracy: 0.8120 - val_loss: 0.4332 - val_accuracy: 0.8284\n",
      "Epoch 6/100\n",
      "470/470 [==============================] - 3s 6ms/step - loss: 0.4566 - accuracy: 0.8180 - val_loss: 0.4288 - val_accuracy: 0.8295\n",
      "Epoch 7/100\n",
      "470/470 [==============================] - 3s 6ms/step - loss: 0.4452 - accuracy: 0.8238 - val_loss: 0.4135 - val_accuracy: 0.8371\n",
      "Epoch 8/100\n",
      "470/470 [==============================] - 3s 6ms/step - loss: 0.4345 - accuracy: 0.8263 - val_loss: 0.4124 - val_accuracy: 0.8353\n",
      "Epoch 9/100\n",
      "470/470 [==============================] - 3s 6ms/step - loss: 0.4324 - accuracy: 0.8282 - val_loss: 0.4221 - val_accuracy: 0.8324\n",
      "Epoch 10/100\n",
      "470/470 [==============================] - 3s 6ms/step - loss: 0.4323 - accuracy: 0.8294 - val_loss: 0.4073 - val_accuracy: 0.8402\n",
      "Epoch 11/100\n",
      "470/470 [==============================] - 3s 6ms/step - loss: 0.4217 - accuracy: 0.8338 - val_loss: 0.3981 - val_accuracy: 0.8459\n",
      "Epoch 12/100\n",
      "470/470 [==============================] - 3s 6ms/step - loss: 0.4170 - accuracy: 0.8365 - val_loss: 0.4070 - val_accuracy: 0.8356\n",
      "Epoch 13/100\n",
      "470/470 [==============================] - 3s 6ms/step - loss: 0.4205 - accuracy: 0.8359 - val_loss: 0.3989 - val_accuracy: 0.8437\n",
      "Epoch 14/100\n",
      "470/470 [==============================] - 3s 6ms/step - loss: 0.4143 - accuracy: 0.8411 - val_loss: 0.4067 - val_accuracy: 0.8372\n",
      "Epoch 15/100\n",
      "470/470 [==============================] - 3s 6ms/step - loss: 0.4097 - accuracy: 0.8403 - val_loss: 0.3996 - val_accuracy: 0.8444\n",
      "Epoch 16/100\n",
      "470/470 [==============================] - 4s 7ms/step - loss: 0.4105 - accuracy: 0.8411 - val_loss: 0.3869 - val_accuracy: 0.8491\n",
      "Epoch 17/100\n",
      "470/470 [==============================] - 3s 6ms/step - loss: 0.4036 - accuracy: 0.8430 - val_loss: 0.3926 - val_accuracy: 0.8482\n",
      "Epoch 18/100\n",
      "470/470 [==============================] - 3s 6ms/step - loss: 0.4047 - accuracy: 0.8423 - val_loss: 0.3822 - val_accuracy: 0.8520\n",
      "Epoch 19/100\n",
      "470/470 [==============================] - 3s 6ms/step - loss: 0.3996 - accuracy: 0.8450 - val_loss: 0.3890 - val_accuracy: 0.8519\n",
      "Epoch 20/100\n",
      "470/470 [==============================] - 3s 6ms/step - loss: 0.3979 - accuracy: 0.8468 - val_loss: 0.3872 - val_accuracy: 0.8522\n",
      "Epoch 21/100\n",
      "470/470 [==============================] - 3s 6ms/step - loss: 0.3926 - accuracy: 0.8484 - val_loss: 0.3860 - val_accuracy: 0.8526\n",
      "Epoch 22/100\n",
      "470/470 [==============================] - 3s 6ms/step - loss: 0.4000 - accuracy: 0.8481 - val_loss: 0.3938 - val_accuracy: 0.8466\n",
      "Epoch 23/100\n",
      "470/470 [==============================] - 3s 6ms/step - loss: 0.3949 - accuracy: 0.8495 - val_loss: 0.3918 - val_accuracy: 0.8478\n",
      "Epoch 24/100\n",
      "470/470 [==============================] - 3s 6ms/step - loss: 0.3960 - accuracy: 0.8485 - val_loss: 0.3837 - val_accuracy: 0.8547\n",
      "Epoch 25/100\n",
      "470/470 [==============================] - 3s 6ms/step - loss: 0.3911 - accuracy: 0.8527 - val_loss: 0.3838 - val_accuracy: 0.8543\n",
      "Epoch 26/100\n",
      "470/470 [==============================] - 3s 6ms/step - loss: 0.3897 - accuracy: 0.8495 - val_loss: 0.3956 - val_accuracy: 0.8477\n",
      "Epoch 27/100\n",
      "470/470 [==============================] - 3s 6ms/step - loss: 0.3925 - accuracy: 0.8516 - val_loss: 0.3866 - val_accuracy: 0.8506\n",
      "Epoch 28/100\n",
      "470/470 [==============================] - 3s 6ms/step - loss: 0.3850 - accuracy: 0.8543 - val_loss: 0.3796 - val_accuracy: 0.8549\n",
      "Epoch 29/100\n",
      "470/470 [==============================] - 3s 6ms/step - loss: 0.3878 - accuracy: 0.8522 - val_loss: 0.3780 - val_accuracy: 0.8550\n",
      "Epoch 30/100\n",
      "470/470 [==============================] - 3s 6ms/step - loss: 0.3863 - accuracy: 0.8526 - val_loss: 0.3839 - val_accuracy: 0.8522\n",
      "Epoch 31/100\n",
      "470/470 [==============================] - 3s 6ms/step - loss: 0.3829 - accuracy: 0.8532 - val_loss: 0.3866 - val_accuracy: 0.8534\n",
      "Epoch 32/100\n",
      "470/470 [==============================] - 3s 6ms/step - loss: 0.3855 - accuracy: 0.8540 - val_loss: 0.3775 - val_accuracy: 0.8551\n",
      "Epoch 33/100\n",
      "470/470 [==============================] - 3s 6ms/step - loss: 0.3853 - accuracy: 0.8529 - val_loss: 0.4054 - val_accuracy: 0.8466\n",
      "Epoch 34/100\n",
      "470/470 [==============================] - 3s 7ms/step - loss: 0.3852 - accuracy: 0.8537 - val_loss: 0.3795 - val_accuracy: 0.8580\n",
      "Epoch 35/100\n",
      "470/470 [==============================] - 3s 6ms/step - loss: 0.3803 - accuracy: 0.8566 - val_loss: 0.3810 - val_accuracy: 0.8531\n",
      "Epoch 36/100\n",
      "470/470 [==============================] - 3s 6ms/step - loss: 0.3781 - accuracy: 0.8566 - val_loss: 0.3856 - val_accuracy: 0.8530\n",
      "Epoch 37/100\n",
      "470/470 [==============================] - 3s 7ms/step - loss: 0.3812 - accuracy: 0.8580 - val_loss: 0.3794 - val_accuracy: 0.8517\n",
      "Epoch 38/100\n",
      "470/470 [==============================] - 3s 6ms/step - loss: 0.3792 - accuracy: 0.8550 - val_loss: 0.3755 - val_accuracy: 0.8566\n",
      "Epoch 39/100\n",
      "470/470 [==============================] - 3s 7ms/step - loss: 0.3751 - accuracy: 0.8586 - val_loss: 0.3776 - val_accuracy: 0.8571\n",
      "Epoch 40/100\n",
      "470/470 [==============================] - 3s 6ms/step - loss: 0.3807 - accuracy: 0.8558 - val_loss: 0.3781 - val_accuracy: 0.8573\n",
      "Epoch 41/100\n",
      "470/470 [==============================] - 3s 7ms/step - loss: 0.3802 - accuracy: 0.8554 - val_loss: 0.3838 - val_accuracy: 0.8557\n",
      "Epoch 42/100\n",
      "470/470 [==============================] - 3s 5ms/step - loss: 0.3820 - accuracy: 0.8558 - val_loss: 0.3710 - val_accuracy: 0.8629\n",
      "Epoch 43/100\n",
      "470/470 [==============================] - 3s 6ms/step - loss: 0.3791 - accuracy: 0.8568 - val_loss: 0.3804 - val_accuracy: 0.8546\n",
      "Epoch 44/100\n",
      "470/470 [==============================] - 3s 5ms/step - loss: 0.3772 - accuracy: 0.8573 - val_loss: 0.3694 - val_accuracy: 0.8624\n",
      "Epoch 45/100\n",
      "470/470 [==============================] - 3s 5ms/step - loss: 0.3741 - accuracy: 0.8596 - val_loss: 0.3745 - val_accuracy: 0.8599\n",
      "Epoch 46/100\n",
      "470/470 [==============================] - 3s 5ms/step - loss: 0.3754 - accuracy: 0.8570 - val_loss: 0.3772 - val_accuracy: 0.8576\n",
      "Epoch 47/100\n",
      "470/470 [==============================] - 3s 6ms/step - loss: 0.3743 - accuracy: 0.8589 - val_loss: 0.3665 - val_accuracy: 0.8628\n",
      "Epoch 48/100\n",
      "470/470 [==============================] - 3s 5ms/step - loss: 0.3718 - accuracy: 0.8594 - val_loss: 0.3756 - val_accuracy: 0.8543\n",
      "Epoch 49/100\n",
      "470/470 [==============================] - 3s 6ms/step - loss: 0.3737 - accuracy: 0.8602 - val_loss: 0.3787 - val_accuracy: 0.8601\n",
      "Epoch 50/100\n",
      "470/470 [==============================] - 3s 5ms/step - loss: 0.3758 - accuracy: 0.8616 - val_loss: 0.3719 - val_accuracy: 0.8627\n",
      "Epoch 51/100\n",
      "470/470 [==============================] - 3s 6ms/step - loss: 0.3731 - accuracy: 0.8601 - val_loss: 0.3742 - val_accuracy: 0.8603\n",
      "Epoch 52/100\n",
      "470/470 [==============================] - 3s 6ms/step - loss: 0.3746 - accuracy: 0.8602 - val_loss: 0.3726 - val_accuracy: 0.8606\n",
      "Epoch 53/100\n",
      "470/470 [==============================] - 3s 5ms/step - loss: 0.3735 - accuracy: 0.8620 - val_loss: 0.3776 - val_accuracy: 0.8570\n",
      "Epoch 54/100\n",
      "470/470 [==============================] - 3s 5ms/step - loss: 0.3707 - accuracy: 0.8626 - val_loss: 0.3689 - val_accuracy: 0.8620\n",
      "Epoch 55/100\n",
      "470/470 [==============================] - 3s 7ms/step - loss: 0.3703 - accuracy: 0.8598 - val_loss: 0.3745 - val_accuracy: 0.8608\n",
      "Epoch 56/100\n",
      "470/470 [==============================] - 3s 5ms/step - loss: 0.3694 - accuracy: 0.8613 - val_loss: 0.3743 - val_accuracy: 0.8631\n",
      "Epoch 57/100\n",
      "470/470 [==============================] - 3s 6ms/step - loss: 0.3760 - accuracy: 0.8584 - val_loss: 0.3771 - val_accuracy: 0.8580\n"
     ]
    },
    {
     "name": "stdout",
     "output_type": "stream",
     "text": [
      "Epoch 58/100\n",
      "470/470 [==============================] - 4s 8ms/step - loss: 0.3731 - accuracy: 0.8607 - val_loss: 0.3654 - val_accuracy: 0.8632\n",
      "Epoch 59/100\n",
      "470/470 [==============================] - 3s 5ms/step - loss: 0.3726 - accuracy: 0.8611 - val_loss: 0.3743 - val_accuracy: 0.8589\n",
      "Epoch 60/100\n",
      "470/470 [==============================] - 3s 6ms/step - loss: 0.3729 - accuracy: 0.8570 - val_loss: 0.3671 - val_accuracy: 0.8619\n",
      "Epoch 61/100\n",
      "470/470 [==============================] - 3s 5ms/step - loss: 0.3713 - accuracy: 0.8598 - val_loss: 0.3676 - val_accuracy: 0.8601\n",
      "Epoch 62/100\n",
      "470/470 [==============================] - 3s 5ms/step - loss: 0.3694 - accuracy: 0.8590 - val_loss: 0.3731 - val_accuracy: 0.8578\n",
      "Epoch 63/100\n",
      "470/470 [==============================] - 3s 5ms/step - loss: 0.3631 - accuracy: 0.8634 - val_loss: 0.3727 - val_accuracy: 0.8644\n",
      "Epoch 64/100\n",
      "470/470 [==============================] - 4s 8ms/step - loss: 0.3676 - accuracy: 0.8657 - val_loss: 0.3633 - val_accuracy: 0.8637\n",
      "Epoch 65/100\n",
      "470/470 [==============================] - 3s 6ms/step - loss: 0.3674 - accuracy: 0.8624 - val_loss: 0.3672 - val_accuracy: 0.8631\n",
      "Epoch 66/100\n",
      "470/470 [==============================] - 3s 5ms/step - loss: 0.3622 - accuracy: 0.8657 - val_loss: 0.3653 - val_accuracy: 0.8636\n",
      "Epoch 67/100\n",
      "470/470 [==============================] - 3s 5ms/step - loss: 0.3665 - accuracy: 0.8643 - val_loss: 0.3797 - val_accuracy: 0.8598\n",
      "Epoch 68/100\n",
      "470/470 [==============================] - 3s 6ms/step - loss: 0.3670 - accuracy: 0.8632 - val_loss: 0.3776 - val_accuracy: 0.8590\n",
      "Epoch 69/100\n",
      "470/470 [==============================] - 3s 7ms/step - loss: 0.3695 - accuracy: 0.8624 - val_loss: 0.3695 - val_accuracy: 0.8670\n",
      "Epoch 70/100\n",
      "470/470 [==============================] - 4s 8ms/step - loss: 0.3672 - accuracy: 0.8619 - val_loss: 0.3883 - val_accuracy: 0.8507\n",
      "Epoch 71/100\n",
      "470/470 [==============================] - 4s 8ms/step - loss: 0.3645 - accuracy: 0.8640 - val_loss: 0.3641 - val_accuracy: 0.8629\n",
      "Epoch 72/100\n",
      "470/470 [==============================] - 3s 6ms/step - loss: 0.3622 - accuracy: 0.8654 - val_loss: 0.3691 - val_accuracy: 0.8614\n",
      "Epoch 73/100\n",
      "470/470 [==============================] - 3s 7ms/step - loss: 0.3633 - accuracy: 0.8664 - val_loss: 0.3709 - val_accuracy: 0.8635\n",
      "Epoch 74/100\n",
      "470/470 [==============================] - 3s 7ms/step - loss: 0.3644 - accuracy: 0.8650 - val_loss: 0.3735 - val_accuracy: 0.8615\n",
      "Epoch 75/100\n",
      "470/470 [==============================] - 3s 7ms/step - loss: 0.3622 - accuracy: 0.8664 - val_loss: 0.3699 - val_accuracy: 0.8627\n",
      "Epoch 76/100\n",
      "470/470 [==============================] - 3s 7ms/step - loss: 0.3617 - accuracy: 0.8660 - val_loss: 0.3671 - val_accuracy: 0.8638\n",
      "Epoch 77/100\n",
      "470/470 [==============================] - 3s 6ms/step - loss: 0.3614 - accuracy: 0.8673 - val_loss: 0.3704 - val_accuracy: 0.8601\n",
      "Epoch 78/100\n",
      "470/470 [==============================] - 3s 6ms/step - loss: 0.3664 - accuracy: 0.8625 - val_loss: 0.3692 - val_accuracy: 0.8624\n",
      "Epoch 79/100\n",
      "470/470 [==============================] - 3s 6ms/step - loss: 0.3649 - accuracy: 0.8674 - val_loss: 0.3732 - val_accuracy: 0.8597\n",
      "Epoch 80/100\n",
      "470/470 [==============================] - 3s 6ms/step - loss: 0.3623 - accuracy: 0.8671 - val_loss: 0.3690 - val_accuracy: 0.8652\n",
      "Epoch 81/100\n",
      "470/470 [==============================] - 3s 6ms/step - loss: 0.3655 - accuracy: 0.8643 - val_loss: 0.3701 - val_accuracy: 0.8603\n",
      "Epoch 82/100\n",
      "470/470 [==============================] - 3s 6ms/step - loss: 0.3680 - accuracy: 0.8633 - val_loss: 0.3709 - val_accuracy: 0.8628\n",
      "Epoch 83/100\n",
      "470/470 [==============================] - 3s 6ms/step - loss: 0.3638 - accuracy: 0.8663 - val_loss: 0.3697 - val_accuracy: 0.8636\n",
      "Epoch 84/100\n",
      "470/470 [==============================] - 3s 7ms/step - loss: 0.3619 - accuracy: 0.8659 - val_loss: 0.3701 - val_accuracy: 0.8614\n",
      "Epoch 85/100\n",
      "470/470 [==============================] - 3s 6ms/step - loss: 0.3668 - accuracy: 0.8644 - val_loss: 0.3814 - val_accuracy: 0.8564\n",
      "Epoch 86/100\n",
      "470/470 [==============================] - 3s 6ms/step - loss: 0.3652 - accuracy: 0.8655 - val_loss: 0.3676 - val_accuracy: 0.8622\n",
      "Epoch 87/100\n",
      "470/470 [==============================] - 3s 6ms/step - loss: 0.3624 - accuracy: 0.8659 - val_loss: 0.3669 - val_accuracy: 0.8623\n",
      "Epoch 88/100\n",
      "470/470 [==============================] - 3s 6ms/step - loss: 0.3647 - accuracy: 0.8660 - val_loss: 0.3781 - val_accuracy: 0.8592\n",
      "Epoch 89/100\n",
      "470/470 [==============================] - 3s 6ms/step - loss: 0.3652 - accuracy: 0.8636 - val_loss: 0.3814 - val_accuracy: 0.8567\n",
      "Epoch 90/100\n",
      "470/470 [==============================] - 3s 6ms/step - loss: 0.3657 - accuracy: 0.8677 - val_loss: 0.3722 - val_accuracy: 0.8634\n",
      "Epoch 91/100\n",
      "470/470 [==============================] - 3s 6ms/step - loss: 0.3647 - accuracy: 0.8642 - val_loss: 0.3694 - val_accuracy: 0.8639\n",
      "Epoch 92/100\n",
      "470/470 [==============================] - 3s 6ms/step - loss: 0.3592 - accuracy: 0.8690 - val_loss: 0.3678 - val_accuracy: 0.8653\n",
      "Epoch 93/100\n",
      "470/470 [==============================] - 3s 6ms/step - loss: 0.3591 - accuracy: 0.8691 - val_loss: 0.3705 - val_accuracy: 0.8595\n",
      "Epoch 94/100\n",
      "470/470 [==============================] - 3s 6ms/step - loss: 0.3661 - accuracy: 0.8640 - val_loss: 0.3677 - val_accuracy: 0.8631\n",
      "Epoch 95/100\n",
      "470/470 [==============================] - 3s 6ms/step - loss: 0.3632 - accuracy: 0.8663 - val_loss: 0.3743 - val_accuracy: 0.8582\n",
      "Epoch 96/100\n",
      "470/470 [==============================] - 3s 6ms/step - loss: 0.3680 - accuracy: 0.8647 - val_loss: 0.3671 - val_accuracy: 0.8632\n",
      "Epoch 97/100\n",
      "470/470 [==============================] - 3s 6ms/step - loss: 0.3661 - accuracy: 0.8668 - val_loss: 0.3683 - val_accuracy: 0.8639\n",
      "Epoch 98/100\n",
      "470/470 [==============================] - 3s 6ms/step - loss: 0.3633 - accuracy: 0.8681 - val_loss: 0.3671 - val_accuracy: 0.8646\n",
      "Epoch 99/100\n",
      "470/470 [==============================] - 3s 6ms/step - loss: 0.3646 - accuracy: 0.8670 - val_loss: 0.3661 - val_accuracy: 0.8628\n",
      "Epoch 100/100\n",
      "470/470 [==============================] - 3s 6ms/step - loss: 0.3618 - accuracy: 0.8683 - val_loss: 0.3687 - val_accuracy: 0.8629\n"
     ]
    },
    {
     "data": {
      "text/plain": [
       "<tensorflow.python.keras.callbacks.History at 0x2422dca1ba8>"
      ]
     },
     "execution_count": 27,
     "metadata": {},
     "output_type": "execute_result"
    }
   ],
   "source": [
    "model.fit(X_train, y_train, epochs=100, batch_size=64, validation_data=(X_val, y_val))"
   ]
  },
  {
   "cell_type": "code",
   "execution_count": 33,
   "metadata": {},
   "outputs": [
    {
     "name": "stdout",
     "output_type": "stream",
     "text": [
      "691/691 [==============================] - 1s 2ms/step - loss: 0.3590 - accuracy: 0.8654\n"
     ]
    }
   ],
   "source": [
    "loss, accuracy = model.evaluate(X_test, y_test)"
   ]
  },
  {
   "cell_type": "code",
   "execution_count": 32,
   "metadata": {},
   "outputs": [
    {
     "data": {
      "text/plain": [
       "0.8653689622879028"
      ]
     },
     "execution_count": 32,
     "metadata": {},
     "output_type": "execute_result"
    }
   ],
   "source": [
    "accuracy"
   ]
  },
  {
   "cell_type": "code",
   "execution_count": 34,
   "metadata": {},
   "outputs": [
    {
     "data": {
      "text/plain": [
       "0.3590347170829773"
      ]
     },
     "execution_count": 34,
     "metadata": {},
     "output_type": "execute_result"
    }
   ],
   "source": [
    "loss"
   ]
  },
  {
   "cell_type": "code",
   "execution_count": 35,
   "metadata": {},
   "outputs": [],
   "source": [
    "model.save(\"output/model.h5\")"
   ]
  },
  {
   "cell_type": "code",
   "execution_count": 39,
   "metadata": {},
   "outputs": [],
   "source": []
  },
  {
   "cell_type": "code",
   "execution_count": 43,
   "metadata": {},
   "outputs": [],
   "source": [
    "def extract_feature(file_name, **kwargs):\n",
    "    \"\"\"\n",
    "    Extract feature from audio file `file_name`\n",
    "        Features supported:\n",
    "            - MFCC (mfcc)\n",
    "            - Chroma (chroma)\n",
    "            - MEL Spectrogram Frequency (mel)\n",
    "            - Contrast (contrast)\n",
    "            - Tonnetz (tonnetz)\n",
    "        e.g:\n",
    "        `features = extract_feature(path, mel=True, mfcc=True)`\n",
    "    \"\"\"\n",
    "    mfcc = kwargs.get(\"mfcc\")\n",
    "    chroma = kwargs.get(\"chroma\")\n",
    "    mel = kwargs.get(\"mel\")\n",
    "    contrast = kwargs.get(\"contrast\")\n",
    "    tonnetz = kwargs.get(\"tonnetz\")\n",
    "    X, sample_rate = librosa.core.load(file_name)\n",
    "    if chroma or contrast:\n",
    "        stft = np.abs(librosa.stft(X))\n",
    "    result = np.array([])\n",
    "    if mfcc:\n",
    "        mfccs = np.mean(librosa.feature.mfcc(y=X, sr=sample_rate, n_mfcc=40).T, axis=0)\n",
    "        result = np.hstack((result, mfccs))\n",
    "    if chroma:\n",
    "        chroma = np.mean(librosa.feature.chroma_stft(S=stft, sr=sample_rate).T,axis=0)\n",
    "        result = np.hstack((result, chroma))\n",
    "    if mel:\n",
    "        mel = np.mean(librosa.feature.melspectrogram(X, sr=sample_rate).T,axis=0)\n",
    "        result = np.hstack((result, mel))\n",
    "    if contrast:\n",
    "        contrast = np.mean(librosa.feature.spectral_contrast(S=stft, sr=sample_rate).T,axis=0)\n",
    "        result = np.hstack((result, contrast))\n",
    "    if tonnetz:\n",
    "        tonnetz = np.mean(librosa.feature.tonnetz(y=librosa.effects.harmonic(X), sr=sample_rate).T,axis=0)\n",
    "        result = np.hstack((result, tonnetz))\n",
    "    return result\n"
   ]
  },
  {
   "cell_type": "code",
   "execution_count": 48,
   "metadata": {},
   "outputs": [
    {
     "name": "stderr",
     "output_type": "stream",
     "text": [
      "C:\\Users\\dines\\anaconda3\\envs\\newenv\\lib\\site-packages\\ipykernel_launcher.py:134: FutureWarning: Pass y=[ 0.00117408  0.00154129  0.00125179 ... -0.00065324 -0.00028055\n",
      "  0.        ] as keyword args. From version 0.10 passing these as positional arguments will result in an error\n"
     ]
    },
    {
     "name": "stdout",
     "output_type": "stream",
     "text": [
      "Result: male\n",
      "Probabilities:     Male: 92.28%    Female: 7.72%\n"
     ]
    }
   ],
   "source": [
    "model.load_weights(\"output/model.h5\")\n",
    "file = r\"C:\\Users\\dines\\Downloads\\gender-recognition-by-voice-master\\gender-recognition-by-voice-master\\test-samples\\27-124992-0003.wav\"\n",
    "features = extract_feature(file, mel=True).reshape(1, -1)\n",
    "male_prob = model.predict(features)[0][0]\n",
    "female_prob = 1 - male_prob\n",
    "gender = \"male\" if male_prob > female_prob else \"female\"\n",
    "print(\"Result:\", gender)\n",
    "print(f\"Probabilities:     Male: {male_prob*100:.2f}%    Female: {female_prob*100:.2f}%\")"
   ]
  },
  {
   "cell_type": "code",
   "execution_count": null,
   "metadata": {},
   "outputs": [],
   "source": []
  }
 ],
 "metadata": {
  "kernelspec": {
   "display_name": "Python 3",
   "language": "python",
   "name": "python3"
  },
  "language_info": {
   "codemirror_mode": {
    "name": "ipython",
    "version": 3
   },
   "file_extension": ".py",
   "mimetype": "text/x-python",
   "name": "python",
   "nbconvert_exporter": "python",
   "pygments_lexer": "ipython3",
   "version": "3.6.10"
  }
 },
 "nbformat": 4,
 "nbformat_minor": 5
}
